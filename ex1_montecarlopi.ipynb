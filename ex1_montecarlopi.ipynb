{
 "cells": [
  {
   "cell_type": "code",
   "execution_count": 55,
   "metadata": {
    "collapsed": true
   },
   "outputs": [],
   "source": [
    "import random as rnd\n",
    "import math as m\n",
    "import numpy as np\n",
    "import matplotlib.pyplot as plt"
   ]
  },
  {
   "cell_type": "code",
   "execution_count": 59,
   "metadata": {
    "collapsed": false
   },
   "outputs": [
    {
     "data": {
      "image/png": "[encoded data removed]",
      "text/plain": [
       "<matplotlib.figure.Figure at 0x10f572650>"
      ]
     },
     "metadata": {},
     "output_type": "display_data"
    }
   ],
   "source": [
    "\n",
    "num_experiment = 1000\n",
    "\n",
    "def montecarlopi(num_trial):\n",
    "    inside = 0\n",
    "    for i in range(0, num_trial):\n",
    "        x = rnd.random()\n",
    "        y = rnd.random()\n",
    "        if m.sqrt(x**2 + y**2) < 1.0:\n",
    "            inside += 1\n",
    "    pi = (float(inside) / num_trial) * 4\n",
    "    return pi\n",
    "\n",
    "#montecarlopi(10000)\n",
    "\n",
    "# collect experiments results\n",
    "exp_results = []\n",
    "\n",
    "for i in range(num_experiment):\n",
    "    exp_results.append(montecarlopi(10000))\n",
    "\n",
    "errors = [abs(m.pi - elem) for elem in exp_results]\n",
    "\n",
    "exp_results = np.array(exp_results)\n",
    "pi_mean = np.mean(exp_results) # (1./num_experiment)*sum(elem for elem in exp_results)\n",
    "pi_variace = np.var(exp_results) # (1./num_experiment)*sum((np.mean(exp_results) - elem)**2 for elem in exp_results)\n",
    "pi_stdev = np.std(exp_results)\n",
    "\n",
    "#xx = np.histogram(exp_results,\"auto\")[1][1:]\n",
    "#yy = np.histogram(exp_results,\"auto\")[0]\n",
    "\n",
    "plt.hist(exp_results)\n",
    "plt.show()\n"
   ]
  },
  {
   "cell_type": "code",
   "execution_count": 60,
   "metadata": {
    "collapsed": false
   },
   "outputs": [
    {
     "data": {
      "image/png": "[encoded data removed]",
      "text/plain": [
       "<matplotlib.figure.Figure at 0x10f3af910>"
      ]
     },
     "metadata": {},
     "output_type": "display_data"
    }
   ],
   "source": [
    "plt.hist(errors)\n",
    "plt.show()\n",
    "\n"
   ]
  },
  {
   "cell_type": "code",
   "execution_count": null,
   "metadata": {
    "collapsed": true
   },
   "outputs": [],
   "source": []
  }
 ],
 "metadata": {
  "anaconda-cloud": {},
  "kernelspec": {
   "display_name": "Python [conda root]",
   "language": "python",
   "name": "conda-root-py"
  },
  "language_info": {
   "codemirror_mode": {
    "name": "ipython",
    "version": 2
   },
   "file_extension": ".py",
   "mimetype": "text/x-python",
   "name": "python",
   "nbconvert_exporter": "python",
   "pygments_lexer": "ipython2",
   "version": "2.7.12"
  }
 },
 "nbformat": 4,
 "nbformat_minor": 1
}
