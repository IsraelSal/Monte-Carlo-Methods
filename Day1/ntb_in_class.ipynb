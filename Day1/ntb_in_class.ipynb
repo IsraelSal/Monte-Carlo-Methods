{
 "cells": [
  {
   "cell_type": "code",
   "execution_count": 1,
   "metadata": {
    "collapsed": true
   },
   "outputs": [],
   "source": [
    "import numpy as np\n",
    "import random as rnd"
   ]
  },
  {
   "cell_type": "code",
   "execution_count": 5,
   "metadata": {
    "collapsed": false
   },
   "outputs": [],
   "source": [
    "#binomial distribution\n",
    "def bin_distr(p, N, seed=None):\n",
    "    if seed == rnd.seed(seed):\n",
    "        while True:\n",
    "            sum = 0\n",
    "            for i in range(N):\n",
    "                if rnd.uniform(0,1) < p:\n",
    "                    sum += 1\n",
    "            yield sum\n",
    "    "
   ]
  },
  {
   "cell_type": "code",
   "execution_count": null,
   "metadata": {
    "collapsed": true
   },
   "outputs": [],
   "source": [
    "mu=4\n",
    "N=2000\n",
    "gen = bin_distr(mu/float(N),N)\n",
    "num_of_test = 10000\n",
    "my_data = [next(gen) for i in range(num_of_test)]\n"
   ]
  }
 ],
 "metadata": {
  "anaconda-cloud": {},
  "kernelspec": {
   "display_name": "Python [conda root]",
   "language": "python",
   "name": "conda-root-py"
  },
  "language_info": {
   "codemirror_mode": {
    "name": "ipython",
    "version": 2
   },
   "file_extension": ".py",
   "mimetype": "text/x-python",
   "name": "python",
   "nbconvert_exporter": "python",
   "pygments_lexer": "ipython2",
   "version": "2.7.12"
  }
 },
 "nbformat": 4,
 "nbformat_minor": 1
}
