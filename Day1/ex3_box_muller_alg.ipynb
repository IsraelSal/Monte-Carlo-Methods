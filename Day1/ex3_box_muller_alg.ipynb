{
 "cells": [
  {
   "cell_type": "code",
   "execution_count": 13,
   "metadata": {
    "collapsed": true
   },
   "outputs": [],
   "source": [
    "import numpy as np\n",
    "import random as rnd\n",
    "import matplotlib.pyplot as plt"
   ]
  },
  {
   "cell_type": "markdown",
   "metadata": {},
   "source": [
    "The Box-Muller transform is a method for generating normally distributed random numbers from uniformly distributed random numbers."
   ]
  },
  {
   "cell_type": "code",
   "execution_count": 14,
   "metadata": {
    "collapsed": false
   },
   "outputs": [
    {
     "data": {
      "image/png": "[encoded data removed]",
      "text/plain": [
       "<matplotlib.figure.Figure at 0x10a8cee50>"
      ]
     },
     "metadata": {},
     "output_type": "display_data"
    }
   ],
   "source": [
    "def boxmuller(u1, u2):\n",
    "    g1 = np.sqrt(-2*np.log(u1))*np.cos(2*np.pi*u2)\n",
    "    g2 = np.sqrt(-2*np.log(u1))*np.sin(2*np.pi*u2)\n",
    "    return g1, g2\n",
    "\n",
    "# uniformly distributed values between 0 and 1\n",
    "u1 = np.random.rand(1000)\n",
    "u2 = np.random.rand(1000)\n",
    "\n",
    "g1,g2 = boxmuller(u1,u2)\n",
    "\n",
    "plt.figure()\n",
    "plt.subplot(221) # the first row of graphs\n",
    "plt.hist(u1)     # contains the histograms of u1 and u2 \n",
    "plt.subplot(222)\n",
    "plt.hist(u2)\n",
    "plt.subplot(223) # the second contains\n",
    "plt.hist(g1)     # the histograms of z1 and z2\n",
    "plt.subplot(224)\n",
    "plt.hist(g2)\n",
    "plt.show()\n"
   ]
  },
  {
   "cell_type": "code",
   "execution_count": null,
   "metadata": {
    "collapsed": true
   },
   "outputs": [],
   "source": []
  }
 ],
 "metadata": {
  "kernelspec": {
   "display_name": "Python [conda root]",
   "language": "python",
   "name": "conda-root-py"
  },
  "language_info": {
   "codemirror_mode": {
    "name": "ipython",
    "version": 2
   },
   "file_extension": ".py",
   "mimetype": "text/x-python",
   "name": "python",
   "nbconvert_exporter": "python",
   "pygments_lexer": "ipython2",
   "version": "2.7.12"
  }
 },
 "nbformat": 4,
 "nbformat_minor": 1
}
