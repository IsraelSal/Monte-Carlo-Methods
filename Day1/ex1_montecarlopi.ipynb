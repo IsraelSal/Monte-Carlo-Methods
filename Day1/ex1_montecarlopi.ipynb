{
 "cells": [
  {
   "cell_type": "code",
   "execution_count": 1,
   "metadata": {
    "collapsed": true
   },
   "outputs": [],
   "source": [
    "import random as rnd\n",
    "import math as m\n",
    "import numpy as np\n",
    "import matplotlib.pyplot as plt\n",
    "import matplotlib.mlab as mlab"
   ]
  },
  {
   "cell_type": "markdown",
   "metadata": {},
   "source": [
    "## Monta Carlo $\\pi$ Computation"
   ]
  },
  {
   "cell_type": "code",
   "execution_count": 8,
   "metadata": {
    "collapsed": false
   },
   "outputs": [
    {
     "name": "stdout",
     "output_type": "stream",
     "text": [
      "pi mean = 3.14178624, pi var = 0.00026785\n"
     ]
    }
   ],
   "source": [
    "\n",
    "def montecarlopi(num_trial):\n",
    "    inside = 0\n",
    "    for i in range(0, num_trial):\n",
    "        x = rnd.random()\n",
    "        y = rnd.random()\n",
    "        if m.sqrt(x**2 + y**2) < 1.0:\n",
    "            inside += 1\n",
    "    pi = (float(inside) / num_trial) * 4\n",
    "    return pi\n",
    "\n",
    "# collect experimental results\n",
    "num_experiment = 10000\n",
    "num_trial = 10000\n",
    "\n",
    "exp_results = np.zeros(num_experiment)\n",
    "for i in range(num_experiment):\n",
    "    exp_results[i] = montecarlopi(num_trial)\n",
    "    \n",
    "\n",
    "\n",
    "pi_mean = np.mean(exp_results) # (1./num_experiment)*sum(elem for elem in exp_results)\n",
    "pi_variace = np.var(exp_results) # (1./num_experiment)*sum((np.mean(exp_results) - elem)**2 for elem in exp_results)\n",
    "pi_stdev = np.std(exp_results)\n",
    "\n",
    "print \"pi mean = %.8f, pi var = %.8f\" %(pi_mean, pi_variace)"
   ]
  },
  {
   "cell_type": "code",
   "execution_count": 9,
   "metadata": {
    "collapsed": false
   },
   "outputs": [
    {
     "data": {
      "image/png": "[encoded data removed]",
      "text/plain": [
       "<matplotlib.figure.Figure at 0x10e3a48d0>"
      ]
     },
     "metadata": {},
     "output_type": "display_data"
    }
   ],
   "source": [
    "x = np.linspace(min(exp_results), max(exp_results), 100)\n",
    "plt.plot(x, mlab.normpdf(x, np.pi, pi_stdev))\n",
    "\n",
    "plt.hist(exp_results, 50, normed=1)\n",
    "plt.show()"
   ]
  },
  {
   "cell_type": "markdown",
   "metadata": {},
   "source": [
    "### Kolmogorov-Smirnov Test"
   ]
  },
  {
   "cell_type": "markdown",
   "metadata": {},
   "source": [
    "The Kolmogorov-Smirnov tests how well a hypothesized distribution function $F(x)$ fits an empirical distribution function $F_n(x)$.\n",
    "The Kolmogorov-Smirnov test is used to decide if a sample comes from a population with a specific distribution. It gives as output the p-value. If the P value is small, conclude that the two groups were sampled from populations with different distributions. "
   ]
  },
  {
   "cell_type": "code",
   "execution_count": 12,
   "metadata": {
    "collapsed": false
   },
   "outputs": [
    {
     "data": {
      "text/plain": [
       "KstestResult(statistic=0.01044114716480854, pvalue=0.2256775913648362)"
      ]
     },
     "execution_count": 12,
     "metadata": {},
     "output_type": "execute_result"
    }
   ],
   "source": [
    "# Run the K-S test\n",
    "from scipy import stats\n",
    "\n",
    "my_norm = stats.norm(loc=np.mean(exp_results), scale=np.std(exp_results))\n",
    "                     \n",
    "def KStest(sample, norm):\n",
    "    ret = stats.kstest(sample, norm.cdf)\n",
    "    return ret\n",
    "\n",
    "KStest(exp_results, my_norm)"
   ]
  }
 ],
 "metadata": {
  "anaconda-cloud": {},
  "kernelspec": {
   "display_name": "Python [conda root]",
   "language": "python",
   "name": "conda-root-py"
  },
  "language_info": {
   "codemirror_mode": {
    "name": "ipython",
    "version": 2
   },
   "file_extension": ".py",
   "mimetype": "text/x-python",
   "name": "python",
   "nbconvert_exporter": "python",
   "pygments_lexer": "ipython2",
   "version": "2.7.12"
  }
 },
 "nbformat": 4,
 "nbformat_minor": 1
}
