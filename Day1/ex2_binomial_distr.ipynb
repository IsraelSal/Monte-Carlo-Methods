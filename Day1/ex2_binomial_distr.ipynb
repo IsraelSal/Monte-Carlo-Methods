{
 "cells": [
  {
   "cell_type": "code",
   "execution_count": 7,
   "metadata": {
    "collapsed": false
   },
   "outputs": [],
   "source": [
    "%matplotlib inline\n",
    "import numpy as np \n",
    "import matplotlib.pyplot as plt \n",
    "import numpy.random as rnd \n",
    "import math "
   ]
  },
  {
   "cell_type": "markdown",
   "metadata": {},
   "source": [
    "## Binomial Distribution"
   ]
  },
  {
   "cell_type": "code",
   "execution_count": 8,
   "metadata": {
    "collapsed": true
   },
   "outputs": [],
   "source": [
    "#binomial distribution\n",
    "def bin_dist(p, N, seed=None):\n",
    "    if seed: rnd.seed(seed)\n",
    "    while True:\n",
    "        sum=0\n",
    "        for i in range (N):\n",
    "            if rnd.uniform(0,1)<p:\n",
    "                sum+=1\n",
    "        yield sum"
   ]
  },
  {
   "cell_type": "code",
   "execution_count": 9,
   "metadata": {
    "collapsed": true
   },
   "outputs": [],
   "source": [
    "mu=4 \n",
    "N=2000\n",
    "gen = bin_dist(mu/float(N), N) #python iterator "
   ]
  },
  {
   "cell_type": "code",
   "execution_count": 23,
   "metadata": {
    "collapsed": false
   },
   "outputs": [],
   "source": [
    "def binomial(p,N):\n",
    "    #p is the probability \n",
    "    #N is the number of samples \n",
    "    assert(type(N)==int and N>0)\n",
    "    assert(type(p)==float and 0<=p<=1)\n",
    "    return np.floor(np.random.uniform(0.0,1.0,N)+p).astype('int')"
   ]
  },
  {
   "cell_type": "code",
   "execution_count": 48,
   "metadata": {
    "collapsed": false
   },
   "outputs": [],
   "source": [
    "N=10000\n",
    "val=[]\n",
    "for i in range(10000):\n",
    "    val.append(np.sum(binomial(0.5,N))/float(N))"
   ]
  },
  {
   "cell_type": "code",
   "execution_count": 49,
   "metadata": {
    "collapsed": false
   },
   "outputs": [
    {
     "data": {
      "text/plain": [
       "<function matplotlib.pyplot.show>"
      ]
     },
     "execution_count": 49,
     "metadata": {},
     "output_type": "execute_result"
    },
    {
     "data": {
      "image/png": "[encoded data removed]",
      "text/plain": [
       "<matplotlib.figure.Figure at 0x10e83df10>"
      ]
     },
     "metadata": {},
     "output_type": "display_data"
    }
   ],
   "source": [
    "plt.hist(val,20)\n",
    "plt.show\n",
    "np.mean(val)\n",
    "np.std(val)"
   ]
  },
  {
   "cell_type": "markdown",
   "metadata": {},
   "source": [
    "## Normal deviates (Box-Muller Algorithm)\n",
    "\n",
    "kolmogorov smirnov test "
   ]
  },
  {
   "cell_type": "code",
   "execution_count": null,
   "metadata": {
    "collapsed": true
   },
   "outputs": [],
   "source": []
  }
 ],
 "metadata": {
  "anaconda-cloud": {},
  "kernelspec": {
   "display_name": "Python [conda root]",
   "language": "python",
   "name": "conda-root-py"
  },
  "language_info": {
   "codemirror_mode": {
    "name": "ipython",
    "version": 2
   },
   "file_extension": ".py",
   "mimetype": "text/x-python",
   "name": "python",
   "nbconvert_exporter": "python",
   "pygments_lexer": "ipython2",
   "version": "2.7.12"
  }
 },
 "nbformat": 4,
 "nbformat_minor": 0
}
