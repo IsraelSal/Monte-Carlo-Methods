{
 "cells": [
  {
   "cell_type": "code",
   "execution_count": 6,
   "metadata": {
    "collapsed": false
   },
   "outputs": [],
   "source": [
    "%matplotlib inline\n",
    "import numpy as np \n",
    "import matplotlib.pyplot as plt \n",
    "import matplotlib.mlab as mlab\n",
    "import numpy.random as rnd \n",
    "import math "
   ]
  },
  {
   "cell_type": "markdown",
   "metadata": {},
   "source": [
    "## Binomial Distribution"
   ]
  },
  {
   "cell_type": "markdown",
   "metadata": {},
   "source": [
    "In probability theory and statistics, the binomial distribution with parameters N and p is the discrete probability distribution of the number of successes in a sequence of N independent experiments, each asking a yes–no question, and each with its own boolean-valued outcome. The binomial distribution is frequently used to model the number of successes in a sample of size n drawn with replacement from a population of size N.\n",
    "\n",
    "Suppose to have a coin such that $P(\\text{head up}) = p$ and $P(\\text{tail up}) = 1- p$. Suppose you flip the coin $N$ times. What is the probability of having $n$ head up out of $N$ launch: $P_N(n)$."
   ]
  },
  {
   "cell_type": "code",
   "execution_count": 7,
   "metadata": {
    "collapsed": false
   },
   "outputs": [],
   "source": [
    "def binomial(p,N):\n",
    "    #p is the probability \n",
    "    #N is the number of samples \n",
    "    assert(type(N)==int and N>0)\n",
    "    assert(type(p)==float and 0<=p<=1)\n",
    "    return np.floor(np.random.uniform(0.0,1.0,N)+p).astype('int')"
   ]
  },
  {
   "cell_type": "code",
   "execution_count": 19,
   "metadata": {
    "collapsed": false
   },
   "outputs": [
    {
     "name": "stdout",
     "output_type": "stream",
     "text": [
      "0.437\n",
      "0.56\n"
     ]
    }
   ],
   "source": [
    "N=1000\n",
    "val=[]\n",
    "for i in range(10000):\n",
    "    val.append(np.sum(binomial(0.5,N))/float(N))\n",
    "    \n",
    "print min(val)\n",
    "print max(val)"
   ]
  },
  {
   "cell_type": "code",
   "execution_count": 21,
   "metadata": {
    "collapsed": false
   },
   "outputs": [
    {
     "data": {
      "image/png": "[encoded data removed]",
      "text/plain": [
       "<matplotlib.figure.Figure at 0x10e003bd0>"
      ]
     },
     "metadata": {},
     "output_type": "display_data"
    }
   ],
   "source": [
    "x = np.linspace(min(val), max(val), 100)\n",
    "plt.plot(x, mlab.normpdf(x, np.mean(val), np.std(val)))\n",
    "\n",
    "plt.hist(val, 20, normed=1)\n",
    "plt.show()"
   ]
  },
  {
   "cell_type": "code",
   "execution_count": null,
   "metadata": {
    "collapsed": true
   },
   "outputs": [],
   "source": []
  }
 ],
 "metadata": {
  "anaconda-cloud": {},
  "kernelspec": {
   "display_name": "Python [conda root]",
   "language": "python",
   "name": "conda-root-py"
  },
  "language_info": {
   "codemirror_mode": {
    "name": "ipython",
    "version": 2
   },
   "file_extension": ".py",
   "mimetype": "text/x-python",
   "name": "python",
   "nbconvert_exporter": "python",
   "pygments_lexer": "ipython2",
   "version": "2.7.12"
  }
 },
 "nbformat": 4,
 "nbformat_minor": 0
}
